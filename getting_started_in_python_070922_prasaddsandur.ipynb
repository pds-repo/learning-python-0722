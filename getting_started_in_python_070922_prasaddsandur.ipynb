{
  "nbformat": 4,
  "nbformat_minor": 0,
  "metadata": {
    "colab": {
      "name": "getting_started_in_python_070922-prasaddsandur.ipynb",
      "provenance": [],
      "authorship_tag": "ABX9TyM7enSS9TlUtb4RlvXuJBHE",
      "include_colab_link": true
    },
    "kernelspec": {
      "name": "python3",
      "display_name": "Python 3"
    },
    "language_info": {
      "name": "python"
    }
  },
  "cells": [
    {
      "cell_type": "markdown",
      "metadata": {
        "id": "view-in-github",
        "colab_type": "text"
      },
      "source": [
        "<a href=\"https://colab.research.google.com/github/pds-repo/learning-python-0722/blob/main/getting_started_in_python_070922_prasaddsandur.ipynb\" target=\"_parent\"><img src=\"https://colab.research.google.com/assets/colab-badge.svg\" alt=\"Open In Colab\"/></a>"
      ]
    },
    {
      "cell_type": "code",
      "execution_count": null,
      "metadata": {
        "id": "HDHXNv_UGiFP"
      },
      "outputs": [],
      "source": [
        ""
      ]
    }
  ]
}